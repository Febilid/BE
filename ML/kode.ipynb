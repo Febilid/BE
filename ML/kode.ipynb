{
 "cells": [
  {
   "cell_type": "code",
   "execution_count": null,
   "metadata": {},
   "outputs": [
    {
     "ename": "ModuleNotFoundError",
     "evalue": "No module named 'Cv2'",
     "output_type": "error",
     "traceback": [
      "\u001b[1;31m---------------------------------------------------------------------------\u001b[0m",
      "\u001b[1;31mModuleNotFoundError\u001b[0m                       Traceback (most recent call last)",
      "Cell \u001b[1;32mIn[2], line 3\u001b[0m\n\u001b[0;32m      1\u001b[0m \u001b[38;5;28;01mimport\u001b[39;00m \u001b[38;5;21;01mos\u001b[39;00m\n\u001b[0;32m      2\u001b[0m \u001b[38;5;28;01mimport\u001b[39;00m \u001b[38;5;21;01mnumpy\u001b[39;00m \u001b[38;5;28;01mas\u001b[39;00m \u001b[38;5;21;01mnp\u001b[39;00m\n\u001b[1;32m----> 3\u001b[0m \u001b[38;5;28;01mimport\u001b[39;00m \u001b[38;5;21;01mCv2\u001b[39;00m\n\u001b[0;32m      4\u001b[0m \u001b[38;5;28;01mfrom\u001b[39;00m \u001b[38;5;21;01msklearn\u001b[39;00m\u001b[38;5;21;01m.\u001b[39;00m\u001b[38;5;21;01mmodel_selection\u001b[39;00m \u001b[38;5;28;01mimport\u001b[39;00m train_test_split\n\u001b[0;32m      5\u001b[0m \u001b[38;5;28;01mfrom\u001b[39;00m \u001b[38;5;21;01msklearn\u001b[39;00m\u001b[38;5;21;01m.\u001b[39;00m\u001b[38;5;21;01mneighbors\u001b[39;00m \u001b[38;5;28;01mimport\u001b[39;00m KNeighborsClassifier\n",
      "\u001b[1;31mModuleNotFoundError\u001b[0m: No module named 'Cv2'"
     ]
    }
   ],
   "source": [
    "import os\n",
    "import numpy as np\n",
    "import cv2\n",
    "from sklearn.model_selection import train_test_split\n",
    "from sklearn.neighbors import KNeighborsClassifier\n",
    "from sklearn.metrics import accuracy_score\n",
    "from skimage.feature import hog, local_binary_pattern\n",
    "import matplotlib.pyplot as plt"
   ]
  },
  {
   "cell_type": "code",
   "execution_count": null,
   "metadata": {},
   "outputs": [],
   "source": [
    "label_mapping = {\n",
    "    '1-10 anak': 0,\n",
    "    '11-20 remaja': 1,\n",
    "    '21-30 transisi': 2,\n",
    "    '31-40 masa matang': 3,\n",
    "    '41-50 dewasa': 4,\n",
    "    '51-60 usia pertengahan': 5,\n",
    "    '61-70 tua': 6,\n",
    "    '71-80 lanjut usia': 7,\n",
    "    '81-90 lanjut usia tua': 8\n",
    "}"
   ]
  },
  {
   "cell_type": "code",
   "execution_count": null,
   "metadata": {},
   "outputs": [],
   "source": [
    "# Fungsi deteksi dan pra-pemrosesan wajah\n",
    "def detect_and_preprocess_face(image):\n",
    "    gray = cv2.cvtColor(image, cv2.COLOR_BGR2GRAY)\n",
    "    face_cascade = cv2.CascadeClassifier(cv2.data.haarcascades + 'haarcascade_frontalface_default.xml')\n",
    "    faces = face_cascade.detectMultiScale(gray, scaleFactor=1.1, minNeighbors=3, minSize=(100, 100))\n",
    "\n",
    "    if len(faces) > 0:\n",
    "        x, y, w, h = max(faces, key=lambda rect: rect[2] * rect[3])\n",
    "        face = gray[y:y+h, x:x+w]\n",
    "        face = cv2.resize(face, (100, 100), interpolation=cv2.INTER_AREA)\n",
    "\n",
    "        # Visualisasi wajah setelah dipotong dan diresize\n",
    "        # plt.imshow(face, cmap=\"gray\")\n",
    "        # plt.title(\"Preprocessed Face\")\n",
    "        # plt.axis(\"off\")\n",
    "        # plt.show()\n",
    "\n",
    "        mask = np.zeros_like(face)\n",
    "        mask = cv2.circle(mask, (50, 50), 40, 255, -1)\n",
    "        face = cv2.bitwise_and(face, mask)\n",
    "\n",
    "        # Visualisasi wajah setelah masking\n",
    "        # plt.imshow(face, cmap=\"gray\")\n",
    "        # plt.title(\"Masked Face\")\n",
    "        # plt.axis(\"off\")\n",
    "        # plt.show()\n",
    "\n",
    "        return face\n",
    "    return None"
   ]
  },
  {
   "cell_type": "code",
   "execution_count": null,
   "metadata": {},
   "outputs": [],
   "source": [
    "# Fungsi ekstraksi fitur\n",
    "def extract_canny_features(face):\n",
    "    edges = cv2.Canny(face, threshold1=30, threshold2=100)\n",
    "\n",
    "    # Visualisasi hasil deteksi tepi\n",
    "    # plt.imshow(edges, cmap=\"gray\")\n",
    "    # plt.title(\"Canny Edges\")\n",
    "    # plt.axis(\"off\")\n",
    "    # plt.show()\n",
    "\n",
    "    edges_hist, _ = np.histogram(edges.ravel(), bins=np.arange(0, 256), density=True)\n",
    "    return edges_hist"
   ]
  },
  {
   "cell_type": "code",
   "execution_count": null,
   "metadata": {},
   "outputs": [],
   "source": [
    "def extract_hog_features(face):\n",
    "    hog_features, hog_image = hog(face, orientations=9, pixels_per_cell=(8, 8), cells_per_block=(2, 2),\n",
    "                                  block_norm='L2-Hys', visualize=True, feature_vector=True)\n",
    "\n",
    "    # Visualisasi hasil ekstraksi HOG\n",
    "    # plt.imshow(hog_image, cmap=\"gray\")\n",
    "    # plt.title(\"HOG Features\")\n",
    "    # plt.axis(\"off\")\n",
    "    # plt.show()\n",
    "\n",
    "    return hog_features"
   ]
  },
  {
   "cell_type": "code",
   "execution_count": null,
   "metadata": {},
   "outputs": [],
   "source": [
    "def extract_lbp_features(face):\n",
    "    lbp = local_binary_pattern(face, P=8, R=1, method='uniform')\n",
    "\n",
    "    # Visualisasi pola LBP\n",
    "    # plt.imshow(lbp, cmap=\"gray\")\n",
    "    # plt.title(\"LBP Image\")\n",
    "    # plt.axis(\"off\")\n",
    "    # plt.show()\n",
    "\n",
    "    lbp_hist, _ = np.histogram(lbp.ravel(), bins=np.arange(0, 10), density=True)\n",
    "    return lbp_hist"
   ]
  },
  {
   "cell_type": "code",
   "execution_count": null,
   "metadata": {},
   "outputs": [],
   "source": [
    "def extract_combined_features(face):\n",
    "    canny_features = extract_canny_features(face)\n",
    "    hog_features = extract_hog_features(face)\n",
    "    lbp_features = extract_lbp_features(face)\n",
    "    return np.hstack((canny_features, hog_features, lbp_features))"
   ]
  },
  {
   "cell_type": "code",
   "execution_count": null,
   "metadata": {},
   "outputs": [],
   "source": [
    "def prepare_data(data_dir):\n",
    "    features, labels = []\n",
    "    for label_dir in os.listdir(data_dir):\n",
    "        label_path = os.path.join(data_dir, label_dir)\n",
    "        if os.path.isdir(label_path):\n",
    "            label = label_mapping.get(label_dir, -1)\n",
    "            if label == -1:\n",
    "                continue\n",
    "\n",
    "            for img_file in os.listdir(label_path):\n",
    "                img_path = os.path.join(label_path, img_file)\n",
    "                image = cv2.imread(img_path)\n",
    "                if image is not None:\n",
    "                    face = detect_and_preprocess_face(image)\n",
    "                    if face is not None:\n",
    "                        feature = extract_combined_features(face)\n",
    "                        features.append(feature)\n",
    "                        labels.append(label)\n",
    "\n",
    "                        # Visualisasi gambar asli\n",
    "                        # plt.imshow(cv2.cvtColor(image, cv2.COLOR_BGR2RGB))\n",
    "                        # plt.title(f\"Original Image - Label: {label_dir}\")\n",
    "                        # plt.axis(\"off\")\n",
    "                        # plt.show()\n",
    "\n",
    "    return np.array(features), np.array(labels)"
   ]
  },
  {
   "cell_type": "code",
   "execution_count": null,
   "metadata": {},
   "outputs": [],
   "source": [
    "# Fungsi pelatihan KNN\n",
    "def train_knn(X, y, k=5):\n",
    "    X_train, X_test, y_train, y_test = train_test_split(X, y, test_size=0.2, random_state=42)\n",
    "    knn = KNeighborsClassifier(n_neighbors=k, weights='distance')\n",
    "    knn.fit(X_train, y_train)\n",
    "\n",
    "    y_pred = knn.predict(X_test)\n",
    "    accuracy = accuracy_score(y_test, y_pred)\n",
    "    print(f\"Accuracy: {accuracy * 100:.2f}%\")\n",
    "    return knn, X_train, y_train"
   ]
  },
  {
   "cell_type": "code",
   "execution_count": null,
   "metadata": {},
   "outputs": [],
   "source": [
    "# Fungsi pengujian model\n",
    "def test_knn_model(test_image_path, knn, X_train, y_train):\n",
    "    test_image = cv2.imread(test_image_path)\n",
    "    face = detect_and_preprocess_face(test_image)\n",
    "    if face is None:\n",
    "        print(\"No face detected in test image.\")\n",
    "        return\n",
    "\n",
    "    test_feature = extract_combined_features(face)\n",
    "    distances, indices = knn.kneighbors([test_feature], n_neighbors=3)\n",
    "\n",
    "    top_matches = []\n",
    "    for i, idx in enumerate(indices[0]):\n",
    "        label = y_train[idx]\n",
    "        label_name = [name for name, id_ in label_mapping.items() if id_ == label][0]\n",
    "        top_matches.append((label_name, distances[0][i]))\n",
    "\n",
    "    print(\"Top-3 Matches:\")\n",
    "    for rank, (label, dist) in enumerate(top_matches, 1):\n",
    "        print(f\"{rank}. Label: {label}, Distance: {dist:.2f}\")"
   ]
  },
  {
   "cell_type": "code",
   "execution_count": null,
   "metadata": {},
   "outputs": [],
   "source": [
    " # Visualisasi gambar pengujian\n",
    "    plt.imshow(cv2.cvtColor(test_image, cv2.COLOR_BGR2RGB))\n",
    "    plt.title(f\"Predicted: {top_matches[0][0]}\")\n",
    "    plt.axis(\"off\")\n",
    "    plt.show()"
   ]
  },
  {
   "cell_type": "code",
   "execution_count": null,
   "metadata": {},
   "outputs": [],
   "source": [
    "# Main script\n",
    "if __name__ == \"__main__\":\n",
    "    data_dir = r\"D:\\Be\\BE\\ML\\uploads\\age\"\n",
    "    test_image_path = r\"D:\\Be\\BE\\ML\\uploads\\images\\mumtaz.jpg\"\n",
    "\n",
    "    X, y = prepare_data(data_dir)\n",
    "    knn, X_train, y_train = train_knn(X, y)\n",
    "    test_knn_model(test_image_path, knn, X_train, y_train)"
   ]
  }
 ],
 "metadata": {
  "kernelspec": {
   "display_name": "base",
   "language": "python",
   "name": "python3"
  },
  "language_info": {
   "codemirror_mode": {
    "name": "ipython",
    "version": 3
   },
   "file_extension": ".py",
   "mimetype": "text/x-python",
   "name": "python",
   "nbconvert_exporter": "python",
   "pygments_lexer": "ipython3",
   "version": "3.12.3"
  }
 },
 "nbformat": 4,
 "nbformat_minor": 2
}
